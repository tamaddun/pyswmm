{
 "cells": [
  {
   "cell_type": "code",
   "execution_count": 59,
   "metadata": {},
   "outputs": [],
   "source": [
    "from pyswmm import Simulation, Subcatchments, LidControls, LidGroups\n",
    "import swmmio; import swmm"
   ]
  },
  {
   "cell_type": "code",
   "execution_count": 60,
   "metadata": {},
   "outputs": [],
   "source": [
    "import os; import numpy as np; import pandas as pd"
   ]
  },
  {
   "cell_type": "code",
   "execution_count": 61,
   "metadata": {},
   "outputs": [
    {
     "data": {
      "text/plain": [
       "'C:\\\\Users\\\\kat6am\\\\Downloads\\\\UVA_Research\\\\GreenGrayInfrastructure\\\\HMS_RAS_SWMM_iTree\\\\ScottsLevelBranch\\\\SLB_SWMM\\\\swmmio_reports'"
      ]
     },
     "execution_count": 61,
     "metadata": {},
     "output_type": "execute_result"
    }
   ],
   "source": [
    "os.getcwd()"
   ]
  },
  {
   "cell_type": "code",
   "execution_count": 62,
   "metadata": {},
   "outputs": [
    {
     "data": {
      "text/plain": [
       "['.ipynb_checkpoints', 'SLB_SWMM.inp', 'swmmio_inp_ensemble.ipynb']"
      ]
     },
     "execution_count": 62,
     "metadata": {},
     "output_type": "execute_result"
    }
   ],
   "source": [
    "os.listdir('./')\n",
    "# There is only one .inp file named 'SLB_SWMM.inp' in the current working directory"
   ]
  },
  {
   "cell_type": "code",
   "execution_count": 63,
   "metadata": {},
   "outputs": [
    {
     "data": {
      "text/html": [
       "<div>\n",
       "<style scoped>\n",
       "    .dataframe tbody tr th:only-of-type {\n",
       "        vertical-align: middle;\n",
       "    }\n",
       "\n",
       "    .dataframe tbody tr th {\n",
       "        vertical-align: top;\n",
       "    }\n",
       "\n",
       "    .dataframe thead th {\n",
       "        text-align: right;\n",
       "    }\n",
       "</style>\n",
       "<table border=\"1\" class=\"dataframe\">\n",
       "  <thead>\n",
       "    <tr style=\"text-align: right;\">\n",
       "      <th>Name</th>\n",
       "      <th>S1</th>\n",
       "      <th>S2</th>\n",
       "      <th>S3</th>\n",
       "      <th>S4</th>\n",
       "    </tr>\n",
       "  </thead>\n",
       "  <tbody>\n",
       "    <tr>\n",
       "      <th>Raingage</th>\n",
       "      <td>Gage1</td>\n",
       "      <td>Gage1</td>\n",
       "      <td>Gage1</td>\n",
       "      <td>Gage1</td>\n",
       "    </tr>\n",
       "    <tr>\n",
       "      <th>Outlet</th>\n",
       "      <td>J1</td>\n",
       "      <td>J2</td>\n",
       "      <td>J3</td>\n",
       "      <td>Out1</td>\n",
       "    </tr>\n",
       "    <tr>\n",
       "      <th>Area</th>\n",
       "      <td>148.26</td>\n",
       "      <td>165.88</td>\n",
       "      <td>307.71</td>\n",
       "      <td>203.2</td>\n",
       "    </tr>\n",
       "    <tr>\n",
       "      <th>PercImperv</th>\n",
       "      <td>56.86</td>\n",
       "      <td>35.41</td>\n",
       "      <td>60.04</td>\n",
       "      <td>52.37</td>\n",
       "    </tr>\n",
       "    <tr>\n",
       "      <th>Width</th>\n",
       "      <td>695.85</td>\n",
       "      <td>615.08</td>\n",
       "      <td>736.76</td>\n",
       "      <td>634.24</td>\n",
       "    </tr>\n",
       "    <tr>\n",
       "      <th>PercSlope</th>\n",
       "      <td>0.06</td>\n",
       "      <td>0.17</td>\n",
       "      <td>0.32</td>\n",
       "      <td>0.49</td>\n",
       "    </tr>\n",
       "    <tr>\n",
       "      <th>CurbLength</th>\n",
       "      <td>0</td>\n",
       "      <td>0</td>\n",
       "      <td>0</td>\n",
       "      <td>0</td>\n",
       "    </tr>\n",
       "    <tr>\n",
       "      <th>SnowPack</th>\n",
       "      <td>NaN</td>\n",
       "      <td>NaN</td>\n",
       "      <td>NaN</td>\n",
       "      <td>NaN</td>\n",
       "    </tr>\n",
       "  </tbody>\n",
       "</table>\n",
       "</div>"
      ],
      "text/plain": [
       "Name            S1      S2      S3      S4\n",
       "Raingage     Gage1   Gage1   Gage1   Gage1\n",
       "Outlet          J1      J2      J3    Out1\n",
       "Area        148.26  165.88  307.71   203.2\n",
       "PercImperv   56.86   35.41   60.04   52.37\n",
       "Width       695.85  615.08  736.76  634.24\n",
       "PercSlope     0.06    0.17    0.32    0.49\n",
       "CurbLength       0       0       0       0\n",
       "SnowPack       NaN     NaN     NaN     NaN"
      ]
     },
     "execution_count": 63,
     "metadata": {},
     "output_type": "execute_result"
    }
   ],
   "source": [
    "# Load the model\n",
    "model = swmmio.Model('SLB_SWMM.inp')\n",
    "# Check subcatchment properties\n",
    "model.inp.subcatchments.T"
   ]
  },
  {
   "cell_type": "code",
   "execution_count": 64,
   "metadata": {},
   "outputs": [],
   "source": [
    "# Assign new values to percent imperviousness and width\n",
    "model.inp.subcatchments.loc['S1','PercImperv'] = 99\n",
    "model.inp.subcatchments.loc['S1','Width'] = 999"
   ]
  },
  {
   "cell_type": "code",
   "execution_count": 65,
   "metadata": {},
   "outputs": [],
   "source": [
    "# Save the new model as an .inp file\n",
    "newFile = os.path.join(model.inp.name + '_2.inp')\n",
    "model.inp.save(newFile)"
   ]
  },
  {
   "cell_type": "code",
   "execution_count": 66,
   "metadata": {},
   "outputs": [
    {
     "data": {
      "text/plain": [
       "['.ipynb_checkpoints',\n",
       " 'SLB_SWMM.inp',\n",
       " 'SLB_SWMM_2.inp',\n",
       " 'swmmio_inp_ensemble.ipynb']"
      ]
     },
     "execution_count": 66,
     "metadata": {},
     "output_type": "execute_result"
    }
   ],
   "source": [
    "# Check if the new .inp is available in the current working directory\n",
    "os.listdir('./')"
   ]
  },
  {
   "cell_type": "code",
   "execution_count": 67,
   "metadata": {},
   "outputs": [],
   "source": [
    "# A new .inp file named 'SLB_SWMM_2.inp' has been created in the current working directory"
   ]
  },
  {
   "cell_type": "code",
   "execution_count": 68,
   "metadata": {},
   "outputs": [],
   "source": [
    "# Load the new model\n",
    "model2 = swmmio.Model('SLB_SWMM_2.inp')"
   ]
  },
  {
   "cell_type": "code",
   "execution_count": 69,
   "metadata": {},
   "outputs": [
    {
     "data": {
      "text/html": [
       "<div>\n",
       "<style scoped>\n",
       "    .dataframe tbody tr th:only-of-type {\n",
       "        vertical-align: middle;\n",
       "    }\n",
       "\n",
       "    .dataframe tbody tr th {\n",
       "        vertical-align: top;\n",
       "    }\n",
       "\n",
       "    .dataframe thead th {\n",
       "        text-align: right;\n",
       "    }\n",
       "</style>\n",
       "<table border=\"1\" class=\"dataframe\">\n",
       "  <thead>\n",
       "    <tr style=\"text-align: right;\">\n",
       "      <th>Name</th>\n",
       "      <th>S1</th>\n",
       "      <th>S2</th>\n",
       "      <th>S3</th>\n",
       "      <th>S4</th>\n",
       "    </tr>\n",
       "  </thead>\n",
       "  <tbody>\n",
       "    <tr>\n",
       "      <th>Raingage</th>\n",
       "      <td>Gage1</td>\n",
       "      <td>Gage1</td>\n",
       "      <td>Gage1</td>\n",
       "      <td>Gage1</td>\n",
       "    </tr>\n",
       "    <tr>\n",
       "      <th>Outlet</th>\n",
       "      <td>J1</td>\n",
       "      <td>J2</td>\n",
       "      <td>J3</td>\n",
       "      <td>Out1</td>\n",
       "    </tr>\n",
       "    <tr>\n",
       "      <th>Area</th>\n",
       "      <td>148.26</td>\n",
       "      <td>165.88</td>\n",
       "      <td>307.71</td>\n",
       "      <td>203.2</td>\n",
       "    </tr>\n",
       "    <tr>\n",
       "      <th>PercImperv</th>\n",
       "      <td>99</td>\n",
       "      <td>35.41</td>\n",
       "      <td>60.04</td>\n",
       "      <td>52.37</td>\n",
       "    </tr>\n",
       "    <tr>\n",
       "      <th>Width</th>\n",
       "      <td>999</td>\n",
       "      <td>615.08</td>\n",
       "      <td>736.76</td>\n",
       "      <td>634.24</td>\n",
       "    </tr>\n",
       "    <tr>\n",
       "      <th>PercSlope</th>\n",
       "      <td>0.06</td>\n",
       "      <td>0.17</td>\n",
       "      <td>0.32</td>\n",
       "      <td>0.49</td>\n",
       "    </tr>\n",
       "    <tr>\n",
       "      <th>CurbLength</th>\n",
       "      <td>0</td>\n",
       "      <td>0</td>\n",
       "      <td>0</td>\n",
       "      <td>0</td>\n",
       "    </tr>\n",
       "    <tr>\n",
       "      <th>SnowPack</th>\n",
       "      <td>NaN</td>\n",
       "      <td>NaN</td>\n",
       "      <td>NaN</td>\n",
       "      <td>NaN</td>\n",
       "    </tr>\n",
       "  </tbody>\n",
       "</table>\n",
       "</div>"
      ],
      "text/plain": [
       "Name            S1      S2      S3      S4\n",
       "Raingage     Gage1   Gage1   Gage1   Gage1\n",
       "Outlet          J1      J2      J3    Out1\n",
       "Area        148.26  165.88  307.71   203.2\n",
       "PercImperv      99   35.41   60.04   52.37\n",
       "Width          999  615.08  736.76  634.24\n",
       "PercSlope     0.06    0.17    0.32    0.49\n",
       "CurbLength       0       0       0       0\n",
       "SnowPack       NaN     NaN     NaN     NaN"
      ]
     },
     "execution_count": 69,
     "metadata": {},
     "output_type": "execute_result"
    }
   ],
   "source": [
    "# Check subcatchment properties of the new model\n",
    "model2.inp.subcatchments.T"
   ]
  },
  {
   "cell_type": "code",
   "execution_count": 70,
   "metadata": {},
   "outputs": [],
   "source": [
    "# The new values have been assigned"
   ]
  }
 ],
 "metadata": {
  "kernelspec": {
   "display_name": "Python 3",
   "language": "python",
   "name": "python3"
  },
  "language_info": {
   "codemirror_mode": {
    "name": "ipython",
    "version": 3
   },
   "file_extension": ".py",
   "mimetype": "text/x-python",
   "name": "python",
   "nbconvert_exporter": "python",
   "pygments_lexer": "ipython3",
   "version": "3.8.5"
  }
 },
 "nbformat": 4,
 "nbformat_minor": 4
}
