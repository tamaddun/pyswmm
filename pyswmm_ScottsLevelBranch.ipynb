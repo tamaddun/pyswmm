{
 "cells": [
  {
   "cell_type": "code",
   "execution_count": null,
   "metadata": {},
   "outputs": [],
   "source": [
    "\"\"\"\n",
    "pyswmm example: Created by Kazi Tamaddun: 02-03-2021\n",
    "This script looks at different pyswmm functionalities specific to LID Controls\n",
    "\"\"\""
   ]
  },
  {
   "cell_type": "code",
   "execution_count": null,
   "metadata": {},
   "outputs": [],
   "source": [
    "# !conda install pyswmm\n",
    "# !conda install swmm\n",
    "from pyswmm import Simulation, LidControls, LidGroups"
   ]
  },
  {
   "cell_type": "code",
   "execution_count": null,
   "metadata": {},
   "outputs": [],
   "source": [
    "# Import required packages\n",
    "import os\n",
    "import numpy as np"
   ]
  },
  {
   "cell_type": "code",
   "execution_count": null,
   "metadata": {},
   "outputs": [],
   "source": [
    "# Scotts Level Brance (SLB) Model developed in EPA SWMM\n",
    "inp_dir = './SLB_SWMM'\n",
    "# Make sure to update the input directory\n",
    "\n",
    "# Load EPA SWMM Model\n",
    "for file in os.scandir(inp_dir):\n",
    "    if file.name.endswith('.inp'):\n",
    "        swmm_inp = file.path # SWMM input file \n",
    "        \n",
    "        control_time_step = 86400*3 # 3 days in seconds - This will be used as the routing step\n",
    "        # Setting a higher time_step just for printing convenience on Jupyter Runtime\n",
    "        # The actual simulation still runs at the default value set through EPA SWMM\n",
    "        \n",
    "# Trying out different combinations of LID Unit_numbers and LID Unit_Areas \n",
    "        uNumbers = np.arange(1,3,1) # Two Options\n",
    "        uAreas = np.arange(60000,80000,10000) # Two Options\n",
    "        \n",
    "        for uArea in uAreas:\n",
    "            for uNumber in uNumbers:\n",
    "                with Simulation(swmm_inp, reportfile = './pyswmm_Reports/Report_{}_{}.txt'.format(uArea,uNumber)) as sim:\n",
    "                    # Make sure to update the output directory\n",
    "                    # The report files will be in this format: 'Report_uArea_uNumber.txt'\n",
    "                    \n",
    "                    sim.step_advance(control_time_step)\n",
    "# LID Controls Module - This lets you access or change individual LID parameters\n",
    "                    bioRet = LidControls(sim)['BioRet1']\n",
    "                    # I have a LID Contol named 'BioRet1'\n",
    "        \n",
    "                    # I am only printing two parameters here\n",
    "                    print('_____________New Run!____________','\\n')\n",
    "                    print('Soil Thickness:',bioRet.soil.thickness,'\\n',\"Surface Manning's n:\",bioRet.surface.roughness)\n",
    "                    # The following code tells you whether immediate outflow of excess water is allowed or not\n",
    "                    # You can also change the value (takes only boolean inputs)\n",
    "                    print(); print(bioRet.can_overflow)\n",
    "\n",
    "                    # Assign new parameter values\n",
    "                    bioRet.soil.thickness = 700\n",
    "                    bioRet.surface.roughness = 0.15 # This is Manning's n\n",
    "                    print(); print('New Soil Thickness:',bioRet.soil.thickness,\n",
    "                                   '\\n',\"New Surface Manning's n:\",bioRet.surface.roughness); print()\n",
    "\n",
    "# LID Groups Module - This lets you access the LIDs assigned to particular Subcatchment\n",
    "                    lid_sub1 = LidGroups(sim)['S1']\n",
    "                    # I have a subcatchment named 'S1'\n",
    "                    print('Number of LID Controls:',len(lid_sub1)) # Checking how many LIDs I have in this subcatchment\n",
    "                    for lid in lid_sub1:\n",
    "                        print(lid) \n",
    "\n",
    "# LID Units Module - This lets you change LID parameters set within a subcatchment    \n",
    "                        lid_sub1[0].unit_area = uArea\n",
    "                        lid_sub1[0].number = uNumber\n",
    "                        lid_sub1[0].from_pervious = 10\n",
    "\n",
    "# Run the simulation\n",
    "                    for step in sim:\n",
    "                        print(); print('Current Time:',sim.current_time); print('LID Group Pervious Area:',lid_sub1.pervious_area);\n",
    "                        print('New LID Unit Area:',lid_sub1[0].unit_area); print('New LID Number:',lid_sub1[0].number)\n",
    "                        print('% From Pervious',lid_sub1[0].from_pervious); print()\n",
    "                        pass\n",
    "\n",
    "                    sim.report()\n",
    "                    sim.close()"
   ]
  }
 ],
 "metadata": {
  "kernelspec": {
   "display_name": "Python 3",
   "language": "python",
   "name": "python3"
  },
  "language_info": {
   "codemirror_mode": {
    "name": "ipython",
    "version": 3
   },
   "file_extension": ".py",
   "mimetype": "text/x-python",
   "name": "python",
   "nbconvert_exporter": "python",
   "pygments_lexer": "ipython3",
   "version": "3.8.5"
  }
 },
 "nbformat": 4,
 "nbformat_minor": 4
}
